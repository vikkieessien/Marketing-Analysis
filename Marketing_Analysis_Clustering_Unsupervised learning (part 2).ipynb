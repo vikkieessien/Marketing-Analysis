{
 "cells": [
  {
   "cell_type": "code",
   "execution_count": 99,
   "metadata": {},
   "outputs": [],
   "source": [
    "import pandas as pd\n",
    "import matplotlib.pyplot as plt\n",
    "import numpy as np\n",
    "import seaborn as sns"
   ]
  },
  {
   "cell_type": "code",
   "execution_count": null,
   "metadata": {},
   "outputs": [],
   "source": []
  },
  {
   "cell_type": "code",
   "execution_count": 100,
   "metadata": {},
   "outputs": [],
   "source": [
    "marketing_df = pd.read_csv('clean_marketing_data.csv')"
   ]
  },
  {
   "cell_type": "code",
   "execution_count": 101,
   "metadata": {},
   "outputs": [
    {
     "data": {
      "text/html": [
       "<div>\n",
       "<style scoped>\n",
       "    .dataframe tbody tr th:only-of-type {\n",
       "        vertical-align: middle;\n",
       "    }\n",
       "\n",
       "    .dataframe tbody tr th {\n",
       "        vertical-align: top;\n",
       "    }\n",
       "\n",
       "    .dataframe thead th {\n",
       "        text-align: right;\n",
       "    }\n",
       "</style>\n",
       "<table border=\"1\" class=\"dataframe\">\n",
       "  <thead>\n",
       "    <tr style=\"text-align: right;\">\n",
       "      <th></th>\n",
       "      <th>Education</th>\n",
       "      <th>Marital_Status</th>\n",
       "      <th>Income</th>\n",
       "      <th>Kidhome</th>\n",
       "      <th>Teenhome</th>\n",
       "      <th>Dt_Customer</th>\n",
       "      <th>Recency</th>\n",
       "      <th>MntWines</th>\n",
       "      <th>MntFruits</th>\n",
       "      <th>MntMeatProducts</th>\n",
       "      <th>...</th>\n",
       "      <th>AcceptedCmp2</th>\n",
       "      <th>Response</th>\n",
       "      <th>Complain</th>\n",
       "      <th>Country</th>\n",
       "      <th>Children</th>\n",
       "      <th>Age</th>\n",
       "      <th>Age_Group</th>\n",
       "      <th>Total_Spent</th>\n",
       "      <th>present_date</th>\n",
       "      <th>customer_lifetime</th>\n",
       "    </tr>\n",
       "  </thead>\n",
       "  <tbody>\n",
       "    <tr>\n",
       "      <th>0</th>\n",
       "      <td>Graduation</td>\n",
       "      <td>Divorced</td>\n",
       "      <td>84835.0</td>\n",
       "      <td>0</td>\n",
       "      <td>0</td>\n",
       "      <td>2014-06-16</td>\n",
       "      <td>0</td>\n",
       "      <td>189</td>\n",
       "      <td>104</td>\n",
       "      <td>379</td>\n",
       "      <td>...</td>\n",
       "      <td>0</td>\n",
       "      <td>1</td>\n",
       "      <td>0</td>\n",
       "      <td>SP</td>\n",
       "      <td>0</td>\n",
       "      <td>51</td>\n",
       "      <td>Middle_Age</td>\n",
       "      <td>1190</td>\n",
       "      <td>2021-02-08</td>\n",
       "      <td>6.7</td>\n",
       "    </tr>\n",
       "    <tr>\n",
       "      <th>1</th>\n",
       "      <td>Graduation</td>\n",
       "      <td>Single</td>\n",
       "      <td>57091.0</td>\n",
       "      <td>0</td>\n",
       "      <td>0</td>\n",
       "      <td>2014-06-15</td>\n",
       "      <td>0</td>\n",
       "      <td>464</td>\n",
       "      <td>5</td>\n",
       "      <td>64</td>\n",
       "      <td>...</td>\n",
       "      <td>1</td>\n",
       "      <td>1</td>\n",
       "      <td>0</td>\n",
       "      <td>CA</td>\n",
       "      <td>0</td>\n",
       "      <td>60</td>\n",
       "      <td>Middle_Age</td>\n",
       "      <td>577</td>\n",
       "      <td>2021-02-08</td>\n",
       "      <td>6.7</td>\n",
       "    </tr>\n",
       "    <tr>\n",
       "      <th>2</th>\n",
       "      <td>Graduation</td>\n",
       "      <td>Married</td>\n",
       "      <td>67267.0</td>\n",
       "      <td>0</td>\n",
       "      <td>1</td>\n",
       "      <td>2014-05-13</td>\n",
       "      <td>0</td>\n",
       "      <td>134</td>\n",
       "      <td>11</td>\n",
       "      <td>59</td>\n",
       "      <td>...</td>\n",
       "      <td>0</td>\n",
       "      <td>0</td>\n",
       "      <td>0</td>\n",
       "      <td>US</td>\n",
       "      <td>1</td>\n",
       "      <td>63</td>\n",
       "      <td>Senior_Citizens</td>\n",
       "      <td>251</td>\n",
       "      <td>2021-02-08</td>\n",
       "      <td>6.7</td>\n",
       "    </tr>\n",
       "    <tr>\n",
       "      <th>3</th>\n",
       "      <td>Graduation</td>\n",
       "      <td>Together</td>\n",
       "      <td>32474.0</td>\n",
       "      <td>1</td>\n",
       "      <td>1</td>\n",
       "      <td>2014-05-11</td>\n",
       "      <td>0</td>\n",
       "      <td>10</td>\n",
       "      <td>0</td>\n",
       "      <td>1</td>\n",
       "      <td>...</td>\n",
       "      <td>0</td>\n",
       "      <td>0</td>\n",
       "      <td>0</td>\n",
       "      <td>AUS</td>\n",
       "      <td>2</td>\n",
       "      <td>54</td>\n",
       "      <td>Middle_Age</td>\n",
       "      <td>11</td>\n",
       "      <td>2021-02-08</td>\n",
       "      <td>6.8</td>\n",
       "    </tr>\n",
       "    <tr>\n",
       "      <th>4</th>\n",
       "      <td>Graduation</td>\n",
       "      <td>Single</td>\n",
       "      <td>21474.0</td>\n",
       "      <td>1</td>\n",
       "      <td>0</td>\n",
       "      <td>2014-04-08</td>\n",
       "      <td>0</td>\n",
       "      <td>6</td>\n",
       "      <td>16</td>\n",
       "      <td>24</td>\n",
       "      <td>...</td>\n",
       "      <td>0</td>\n",
       "      <td>1</td>\n",
       "      <td>0</td>\n",
       "      <td>SP</td>\n",
       "      <td>1</td>\n",
       "      <td>32</td>\n",
       "      <td>Adult</td>\n",
       "      <td>91</td>\n",
       "      <td>2021-02-08</td>\n",
       "      <td>6.8</td>\n",
       "    </tr>\n",
       "  </tbody>\n",
       "</table>\n",
       "<p>5 rows × 32 columns</p>\n",
       "</div>"
      ],
      "text/plain": [
       "    Education Marital_Status   Income  Kidhome  Teenhome Dt_Customer  Recency  \\\n",
       "0  Graduation       Divorced  84835.0        0         0  2014-06-16        0   \n",
       "1  Graduation         Single  57091.0        0         0  2014-06-15        0   \n",
       "2  Graduation        Married  67267.0        0         1  2014-05-13        0   \n",
       "3  Graduation       Together  32474.0        1         1  2014-05-11        0   \n",
       "4  Graduation         Single  21474.0        1         0  2014-04-08        0   \n",
       "\n",
       "   MntWines  MntFruits  MntMeatProducts  ...  AcceptedCmp2  Response  \\\n",
       "0       189        104              379  ...             0         1   \n",
       "1       464          5               64  ...             1         1   \n",
       "2       134         11               59  ...             0         0   \n",
       "3        10          0                1  ...             0         0   \n",
       "4         6         16               24  ...             0         1   \n",
       "\n",
       "   Complain  Country  Children  Age        Age_Group  Total_Spent  \\\n",
       "0         0       SP         0   51       Middle_Age         1190   \n",
       "1         0       CA         0   60       Middle_Age          577   \n",
       "2         0       US         1   63  Senior_Citizens          251   \n",
       "3         0      AUS         2   54       Middle_Age           11   \n",
       "4         0       SP         1   32            Adult           91   \n",
       "\n",
       "   present_date  customer_lifetime  \n",
       "0    2021-02-08                6.7  \n",
       "1    2021-02-08                6.7  \n",
       "2    2021-02-08                6.7  \n",
       "3    2021-02-08                6.8  \n",
       "4    2021-02-08                6.8  \n",
       "\n",
       "[5 rows x 32 columns]"
      ]
     },
     "execution_count": 101,
     "metadata": {},
     "output_type": "execute_result"
    }
   ],
   "source": [
    "marketing_df.head()"
   ]
  },
  {
   "cell_type": "markdown",
   "metadata": {},
   "source": [
    "### Preprocessing the numerical variables"
   ]
  },
  {
   "cell_type": "code",
   "execution_count": 102,
   "metadata": {},
   "outputs": [],
   "source": [
    "marketing_df.drop(['Age_Group'], axis=1, inplace=True)"
   ]
  },
  {
   "cell_type": "code",
   "execution_count": 103,
   "metadata": {},
   "outputs": [
    {
     "data": {
      "text/html": [
       "<div>\n",
       "<style scoped>\n",
       "    .dataframe tbody tr th:only-of-type {\n",
       "        vertical-align: middle;\n",
       "    }\n",
       "\n",
       "    .dataframe tbody tr th {\n",
       "        vertical-align: top;\n",
       "    }\n",
       "\n",
       "    .dataframe thead th {\n",
       "        text-align: right;\n",
       "    }\n",
       "</style>\n",
       "<table border=\"1\" class=\"dataframe\">\n",
       "  <thead>\n",
       "    <tr style=\"text-align: right;\">\n",
       "      <th></th>\n",
       "      <th>Education</th>\n",
       "      <th>Marital_Status</th>\n",
       "      <th>Income</th>\n",
       "      <th>Kidhome</th>\n",
       "      <th>Teenhome</th>\n",
       "      <th>Dt_Customer</th>\n",
       "      <th>Recency</th>\n",
       "      <th>MntWines</th>\n",
       "      <th>MntFruits</th>\n",
       "      <th>MntMeatProducts</th>\n",
       "      <th>...</th>\n",
       "      <th>AcceptedCmp1</th>\n",
       "      <th>AcceptedCmp2</th>\n",
       "      <th>Response</th>\n",
       "      <th>Complain</th>\n",
       "      <th>Country</th>\n",
       "      <th>Children</th>\n",
       "      <th>Age</th>\n",
       "      <th>Total_Spent</th>\n",
       "      <th>present_date</th>\n",
       "      <th>customer_lifetime</th>\n",
       "    </tr>\n",
       "  </thead>\n",
       "  <tbody>\n",
       "    <tr>\n",
       "      <th>0</th>\n",
       "      <td>Graduation</td>\n",
       "      <td>Divorced</td>\n",
       "      <td>84835.0</td>\n",
       "      <td>0</td>\n",
       "      <td>0</td>\n",
       "      <td>2014-06-16</td>\n",
       "      <td>0</td>\n",
       "      <td>189</td>\n",
       "      <td>104</td>\n",
       "      <td>379</td>\n",
       "      <td>...</td>\n",
       "      <td>0</td>\n",
       "      <td>0</td>\n",
       "      <td>1</td>\n",
       "      <td>0</td>\n",
       "      <td>SP</td>\n",
       "      <td>0</td>\n",
       "      <td>51</td>\n",
       "      <td>1190</td>\n",
       "      <td>2021-02-08</td>\n",
       "      <td>6.7</td>\n",
       "    </tr>\n",
       "    <tr>\n",
       "      <th>1</th>\n",
       "      <td>Graduation</td>\n",
       "      <td>Single</td>\n",
       "      <td>57091.0</td>\n",
       "      <td>0</td>\n",
       "      <td>0</td>\n",
       "      <td>2014-06-15</td>\n",
       "      <td>0</td>\n",
       "      <td>464</td>\n",
       "      <td>5</td>\n",
       "      <td>64</td>\n",
       "      <td>...</td>\n",
       "      <td>0</td>\n",
       "      <td>1</td>\n",
       "      <td>1</td>\n",
       "      <td>0</td>\n",
       "      <td>CA</td>\n",
       "      <td>0</td>\n",
       "      <td>60</td>\n",
       "      <td>577</td>\n",
       "      <td>2021-02-08</td>\n",
       "      <td>6.7</td>\n",
       "    </tr>\n",
       "    <tr>\n",
       "      <th>2</th>\n",
       "      <td>Graduation</td>\n",
       "      <td>Married</td>\n",
       "      <td>67267.0</td>\n",
       "      <td>0</td>\n",
       "      <td>1</td>\n",
       "      <td>2014-05-13</td>\n",
       "      <td>0</td>\n",
       "      <td>134</td>\n",
       "      <td>11</td>\n",
       "      <td>59</td>\n",
       "      <td>...</td>\n",
       "      <td>0</td>\n",
       "      <td>0</td>\n",
       "      <td>0</td>\n",
       "      <td>0</td>\n",
       "      <td>US</td>\n",
       "      <td>1</td>\n",
       "      <td>63</td>\n",
       "      <td>251</td>\n",
       "      <td>2021-02-08</td>\n",
       "      <td>6.7</td>\n",
       "    </tr>\n",
       "    <tr>\n",
       "      <th>3</th>\n",
       "      <td>Graduation</td>\n",
       "      <td>Together</td>\n",
       "      <td>32474.0</td>\n",
       "      <td>1</td>\n",
       "      <td>1</td>\n",
       "      <td>2014-05-11</td>\n",
       "      <td>0</td>\n",
       "      <td>10</td>\n",
       "      <td>0</td>\n",
       "      <td>1</td>\n",
       "      <td>...</td>\n",
       "      <td>0</td>\n",
       "      <td>0</td>\n",
       "      <td>0</td>\n",
       "      <td>0</td>\n",
       "      <td>AUS</td>\n",
       "      <td>2</td>\n",
       "      <td>54</td>\n",
       "      <td>11</td>\n",
       "      <td>2021-02-08</td>\n",
       "      <td>6.8</td>\n",
       "    </tr>\n",
       "    <tr>\n",
       "      <th>4</th>\n",
       "      <td>Graduation</td>\n",
       "      <td>Single</td>\n",
       "      <td>21474.0</td>\n",
       "      <td>1</td>\n",
       "      <td>0</td>\n",
       "      <td>2014-04-08</td>\n",
       "      <td>0</td>\n",
       "      <td>6</td>\n",
       "      <td>16</td>\n",
       "      <td>24</td>\n",
       "      <td>...</td>\n",
       "      <td>0</td>\n",
       "      <td>0</td>\n",
       "      <td>1</td>\n",
       "      <td>0</td>\n",
       "      <td>SP</td>\n",
       "      <td>1</td>\n",
       "      <td>32</td>\n",
       "      <td>91</td>\n",
       "      <td>2021-02-08</td>\n",
       "      <td>6.8</td>\n",
       "    </tr>\n",
       "  </tbody>\n",
       "</table>\n",
       "<p>5 rows × 31 columns</p>\n",
       "</div>"
      ],
      "text/plain": [
       "    Education Marital_Status   Income  Kidhome  Teenhome Dt_Customer  Recency  \\\n",
       "0  Graduation       Divorced  84835.0        0         0  2014-06-16        0   \n",
       "1  Graduation         Single  57091.0        0         0  2014-06-15        0   \n",
       "2  Graduation        Married  67267.0        0         1  2014-05-13        0   \n",
       "3  Graduation       Together  32474.0        1         1  2014-05-11        0   \n",
       "4  Graduation         Single  21474.0        1         0  2014-04-08        0   \n",
       "\n",
       "   MntWines  MntFruits  MntMeatProducts  ...  AcceptedCmp1  AcceptedCmp2  \\\n",
       "0       189        104              379  ...             0             0   \n",
       "1       464          5               64  ...             0             1   \n",
       "2       134         11               59  ...             0             0   \n",
       "3        10          0                1  ...             0             0   \n",
       "4         6         16               24  ...             0             0   \n",
       "\n",
       "   Response  Complain  Country  Children  Age  Total_Spent  present_date  \\\n",
       "0         1         0       SP         0   51         1190    2021-02-08   \n",
       "1         1         0       CA         0   60          577    2021-02-08   \n",
       "2         0         0       US         1   63          251    2021-02-08   \n",
       "3         0         0      AUS         2   54           11    2021-02-08   \n",
       "4         1         0       SP         1   32           91    2021-02-08   \n",
       "\n",
       "   customer_lifetime  \n",
       "0                6.7  \n",
       "1                6.7  \n",
       "2                6.7  \n",
       "3                6.8  \n",
       "4                6.8  \n",
       "\n",
       "[5 rows x 31 columns]"
      ]
     },
     "execution_count": 103,
     "metadata": {},
     "output_type": "execute_result"
    }
   ],
   "source": [
    "marketing_df.head()"
   ]
  },
  {
   "cell_type": "code",
   "execution_count": 104,
   "metadata": {},
   "outputs": [],
   "source": [
    "from sklearn import preprocessing\n",
    "le = preprocessing.LabelEncoder()"
   ]
  },
  {
   "cell_type": "code",
   "execution_count": 105,
   "metadata": {},
   "outputs": [],
   "source": [
    "marketing_df['Education'] = le.fit_transform(marketing_df['Education'])"
   ]
  },
  {
   "cell_type": "code",
   "execution_count": 106,
   "metadata": {},
   "outputs": [],
   "source": [
    "education_list= list(le.classes_)"
   ]
  },
  {
   "cell_type": "code",
   "execution_count": 107,
   "metadata": {},
   "outputs": [
    {
     "data": {
      "text/plain": [
       "['2n Cycle', 'Basic', 'Graduation', 'Master', 'PhD']"
      ]
     },
     "execution_count": 107,
     "metadata": {},
     "output_type": "execute_result"
    }
   ],
   "source": [
    "education_list"
   ]
  },
  {
   "cell_type": "code",
   "execution_count": 108,
   "metadata": {},
   "outputs": [],
   "source": [
    "marketing_df['Marital_Status'] = le.fit_transform(marketing_df['Marital_Status'])"
   ]
  },
  {
   "cell_type": "code",
   "execution_count": 109,
   "metadata": {},
   "outputs": [],
   "source": [
    "marital_list =list(le.classes_)"
   ]
  },
  {
   "cell_type": "code",
   "execution_count": 110,
   "metadata": {},
   "outputs": [
    {
     "data": {
      "text/plain": [
       "['Absurd',\n",
       " 'Alone',\n",
       " 'Divorced',\n",
       " 'Married',\n",
       " 'Single',\n",
       " 'Together',\n",
       " 'Widow',\n",
       " 'YOLO']"
      ]
     },
     "execution_count": 110,
     "metadata": {},
     "output_type": "execute_result"
    }
   ],
   "source": [
    "marital_list"
   ]
  },
  {
   "cell_type": "code",
   "execution_count": 111,
   "metadata": {},
   "outputs": [],
   "source": [
    "marketing_df['Country'] = le.fit_transform(marketing_df['Country'])"
   ]
  },
  {
   "cell_type": "code",
   "execution_count": 112,
   "metadata": {},
   "outputs": [],
   "source": [
    "country_list =list(le.classes_)"
   ]
  },
  {
   "cell_type": "code",
   "execution_count": 113,
   "metadata": {},
   "outputs": [
    {
     "data": {
      "text/plain": [
       "['AUS', 'CA', 'GER', 'IND', 'ME', 'SA', 'SP', 'US']"
      ]
     },
     "execution_count": 113,
     "metadata": {},
     "output_type": "execute_result"
    }
   ],
   "source": [
    "country_list"
   ]
  },
  {
   "cell_type": "code",
   "execution_count": 114,
   "metadata": {},
   "outputs": [],
   "source": [
    "marketing_df.drop(['Dt_Customer'], axis=1, inplace=True)"
   ]
  },
  {
   "cell_type": "code",
   "execution_count": 115,
   "metadata": {},
   "outputs": [],
   "source": [
    "marketing_df.drop(['present_date'], axis=1, inplace=True)"
   ]
  },
  {
   "cell_type": "code",
   "execution_count": 116,
   "metadata": {},
   "outputs": [],
   "source": [
    "from sklearn.cluster import KMeans\n",
    "from sklearn.preprocessing import StandardScaler\n",
    "from sklearn.metrics import silhouette_score"
   ]
  },
  {
   "cell_type": "code",
   "execution_count": 117,
   "metadata": {},
   "outputs": [],
   "source": [
    "marketing_data_1 = marketing_df.drop(columns=['Response'])\n",
    "marketing_data_clus = StandardScaler().fit_transform(marketing_data_1)\n",
    "marketing_data_cluster = pd.DataFrame(marketing_data_clus, columns = marketing_data_1.columns)\n"
   ]
  },
  {
   "cell_type": "code",
   "execution_count": 118,
   "metadata": {
    "scrolled": true
   },
   "outputs": [
    {
     "data": {
      "text/html": [
       "<div>\n",
       "<style scoped>\n",
       "    .dataframe tbody tr th:only-of-type {\n",
       "        vertical-align: middle;\n",
       "    }\n",
       "\n",
       "    .dataframe tbody tr th {\n",
       "        vertical-align: top;\n",
       "    }\n",
       "\n",
       "    .dataframe thead th {\n",
       "        text-align: right;\n",
       "    }\n",
       "</style>\n",
       "<table border=\"1\" class=\"dataframe\">\n",
       "  <thead>\n",
       "    <tr style=\"text-align: right;\">\n",
       "      <th></th>\n",
       "      <th>Education</th>\n",
       "      <th>Marital_Status</th>\n",
       "      <th>Income</th>\n",
       "      <th>Kidhome</th>\n",
       "      <th>Teenhome</th>\n",
       "      <th>Recency</th>\n",
       "      <th>MntWines</th>\n",
       "      <th>MntFruits</th>\n",
       "      <th>MntMeatProducts</th>\n",
       "      <th>MntFishProducts</th>\n",
       "      <th>...</th>\n",
       "      <th>AcceptedCmp4</th>\n",
       "      <th>AcceptedCmp5</th>\n",
       "      <th>AcceptedCmp1</th>\n",
       "      <th>AcceptedCmp2</th>\n",
       "      <th>Complain</th>\n",
       "      <th>Country</th>\n",
       "      <th>Children</th>\n",
       "      <th>Age</th>\n",
       "      <th>Total_Spent</th>\n",
       "      <th>customer_lifetime</th>\n",
       "    </tr>\n",
       "  </thead>\n",
       "  <tbody>\n",
       "    <tr>\n",
       "      <th>0</th>\n",
       "      <td>-0.352454</td>\n",
       "      <td>-1.602398</td>\n",
       "      <td>1.294980</td>\n",
       "      <td>-0.823208</td>\n",
       "      <td>-0.929307</td>\n",
       "      <td>-1.693697</td>\n",
       "      <td>-0.344435</td>\n",
       "      <td>1.955247</td>\n",
       "      <td>0.945855</td>\n",
       "      <td>1.339972</td>\n",
       "      <td>...</td>\n",
       "      <td>-0.282912</td>\n",
       "      <td>-0.280107</td>\n",
       "      <td>-0.261851</td>\n",
       "      <td>-0.117229</td>\n",
       "      <td>-0.095498</td>\n",
       "      <td>0.694790</td>\n",
       "      <td>-1.264914</td>\n",
       "      <td>-0.092557</td>\n",
       "      <td>0.967836</td>\n",
       "      <td>-1.599987</td>\n",
       "    </tr>\n",
       "    <tr>\n",
       "      <th>1</th>\n",
       "      <td>-0.352454</td>\n",
       "      <td>0.254202</td>\n",
       "      <td>0.192843</td>\n",
       "      <td>-0.823208</td>\n",
       "      <td>-0.929307</td>\n",
       "      <td>-1.693697</td>\n",
       "      <td>0.471034</td>\n",
       "      <td>-0.536764</td>\n",
       "      <td>-0.459294</td>\n",
       "      <td>-0.559540</td>\n",
       "      <td>...</td>\n",
       "      <td>-0.282912</td>\n",
       "      <td>-0.280107</td>\n",
       "      <td>-0.261851</td>\n",
       "      <td>8.530338</td>\n",
       "      <td>-0.095498</td>\n",
       "      <td>-1.600776</td>\n",
       "      <td>-1.264914</td>\n",
       "      <td>0.676833</td>\n",
       "      <td>-0.049841</td>\n",
       "      <td>-1.599987</td>\n",
       "    </tr>\n",
       "    <tr>\n",
       "      <th>2</th>\n",
       "      <td>-0.352454</td>\n",
       "      <td>-0.674098</td>\n",
       "      <td>0.597087</td>\n",
       "      <td>-0.823208</td>\n",
       "      <td>0.908545</td>\n",
       "      <td>-1.693697</td>\n",
       "      <td>-0.507529</td>\n",
       "      <td>-0.385733</td>\n",
       "      <td>-0.481598</td>\n",
       "      <td>-0.413424</td>\n",
       "      <td>...</td>\n",
       "      <td>-0.282912</td>\n",
       "      <td>-0.280107</td>\n",
       "      <td>-0.261851</td>\n",
       "      <td>-0.117229</td>\n",
       "      <td>-0.095498</td>\n",
       "      <td>1.153903</td>\n",
       "      <td>0.069971</td>\n",
       "      <td>0.933297</td>\n",
       "      <td>-0.591052</td>\n",
       "      <td>-1.599987</td>\n",
       "    </tr>\n",
       "    <tr>\n",
       "      <th>3</th>\n",
       "      <td>-0.352454</td>\n",
       "      <td>1.182503</td>\n",
       "      <td>-0.785073</td>\n",
       "      <td>1.039532</td>\n",
       "      <td>0.908545</td>\n",
       "      <td>-1.693697</td>\n",
       "      <td>-0.875231</td>\n",
       "      <td>-0.662623</td>\n",
       "      <td>-0.740324</td>\n",
       "      <td>-0.687392</td>\n",
       "      <td>...</td>\n",
       "      <td>-0.282912</td>\n",
       "      <td>-0.280107</td>\n",
       "      <td>-0.261851</td>\n",
       "      <td>-0.117229</td>\n",
       "      <td>-0.095498</td>\n",
       "      <td>-2.059889</td>\n",
       "      <td>1.404857</td>\n",
       "      <td>0.163906</td>\n",
       "      <td>-0.989490</td>\n",
       "      <td>-1.420060</td>\n",
       "    </tr>\n",
       "    <tr>\n",
       "      <th>4</th>\n",
       "      <td>-0.352454</td>\n",
       "      <td>0.254202</td>\n",
       "      <td>-1.222051</td>\n",
       "      <td>1.039532</td>\n",
       "      <td>-0.929307</td>\n",
       "      <td>-1.693697</td>\n",
       "      <td>-0.887093</td>\n",
       "      <td>-0.259874</td>\n",
       "      <td>-0.637726</td>\n",
       "      <td>-0.486482</td>\n",
       "      <td>...</td>\n",
       "      <td>-0.282912</td>\n",
       "      <td>-0.280107</td>\n",
       "      <td>-0.261851</td>\n",
       "      <td>-0.117229</td>\n",
       "      <td>-0.095498</td>\n",
       "      <td>0.694790</td>\n",
       "      <td>0.069971</td>\n",
       "      <td>-1.716826</td>\n",
       "      <td>-0.856677</td>\n",
       "      <td>-1.420060</td>\n",
       "    </tr>\n",
       "    <tr>\n",
       "      <th>...</th>\n",
       "      <td>...</td>\n",
       "      <td>...</td>\n",
       "      <td>...</td>\n",
       "      <td>...</td>\n",
       "      <td>...</td>\n",
       "      <td>...</td>\n",
       "      <td>...</td>\n",
       "      <td>...</td>\n",
       "      <td>...</td>\n",
       "      <td>...</td>\n",
       "      <td>...</td>\n",
       "      <td>...</td>\n",
       "      <td>...</td>\n",
       "      <td>...</td>\n",
       "      <td>...</td>\n",
       "      <td>...</td>\n",
       "      <td>...</td>\n",
       "      <td>...</td>\n",
       "      <td>...</td>\n",
       "      <td>...</td>\n",
       "      <td>...</td>\n",
       "    </tr>\n",
       "    <tr>\n",
       "      <th>2208</th>\n",
       "      <td>1.430358</td>\n",
       "      <td>-1.602398</td>\n",
       "      <td>0.565664</td>\n",
       "      <td>-0.823208</td>\n",
       "      <td>0.908545</td>\n",
       "      <td>1.727726</td>\n",
       "      <td>0.198222</td>\n",
       "      <td>-0.209530</td>\n",
       "      <td>-0.182725</td>\n",
       "      <td>0.171041</td>\n",
       "      <td>...</td>\n",
       "      <td>-0.282912</td>\n",
       "      <td>-0.280107</td>\n",
       "      <td>-0.261851</td>\n",
       "      <td>-0.117229</td>\n",
       "      <td>-0.095498</td>\n",
       "      <td>1.153903</td>\n",
       "      <td>0.069971</td>\n",
       "      <td>-0.605484</td>\n",
       "      <td>0.136097</td>\n",
       "      <td>0.559129</td>\n",
       "    </tr>\n",
       "    <tr>\n",
       "      <th>2209</th>\n",
       "      <td>-2.135266</td>\n",
       "      <td>-0.674098</td>\n",
       "      <td>-0.841404</td>\n",
       "      <td>1.039532</td>\n",
       "      <td>-0.929307</td>\n",
       "      <td>1.727726</td>\n",
       "      <td>-0.890058</td>\n",
       "      <td>-0.410905</td>\n",
       "      <td>-0.686794</td>\n",
       "      <td>-0.632598</td>\n",
       "      <td>...</td>\n",
       "      <td>-0.282912</td>\n",
       "      <td>-0.280107</td>\n",
       "      <td>-0.261851</td>\n",
       "      <td>-0.117229</td>\n",
       "      <td>-0.095498</td>\n",
       "      <td>0.694790</td>\n",
       "      <td>0.069971</td>\n",
       "      <td>-0.690972</td>\n",
       "      <td>-0.916443</td>\n",
       "      <td>0.918982</td>\n",
       "    </tr>\n",
       "    <tr>\n",
       "      <th>2210</th>\n",
       "      <td>-0.352454</td>\n",
       "      <td>-1.602398</td>\n",
       "      <td>-0.235435</td>\n",
       "      <td>1.039532</td>\n",
       "      <td>-0.929307</td>\n",
       "      <td>1.727726</td>\n",
       "      <td>-0.356297</td>\n",
       "      <td>-0.612279</td>\n",
       "      <td>-0.352235</td>\n",
       "      <td>-0.413424</td>\n",
       "      <td>...</td>\n",
       "      <td>-0.282912</td>\n",
       "      <td>-0.280107</td>\n",
       "      <td>-0.261851</td>\n",
       "      <td>-0.117229</td>\n",
       "      <td>-0.095498</td>\n",
       "      <td>0.694790</td>\n",
       "      <td>0.069971</td>\n",
       "      <td>-0.605484</td>\n",
       "      <td>-0.494763</td>\n",
       "      <td>1.098908</td>\n",
       "    </tr>\n",
       "    <tr>\n",
       "      <th>2211</th>\n",
       "      <td>-0.352454</td>\n",
       "      <td>-0.674098</td>\n",
       "      <td>0.539565</td>\n",
       "      <td>-0.823208</td>\n",
       "      <td>-0.929307</td>\n",
       "      <td>1.727726</td>\n",
       "      <td>-0.113139</td>\n",
       "      <td>0.293906</td>\n",
       "      <td>2.382229</td>\n",
       "      <td>2.034024</td>\n",
       "      <td>...</td>\n",
       "      <td>-0.282912</td>\n",
       "      <td>-0.280107</td>\n",
       "      <td>-0.261851</td>\n",
       "      <td>-0.117229</td>\n",
       "      <td>-0.095498</td>\n",
       "      <td>-0.682550</td>\n",
       "      <td>-1.264914</td>\n",
       "      <td>-0.776460</td>\n",
       "      <td>1.288246</td>\n",
       "      <td>1.098908</td>\n",
       "    </tr>\n",
       "    <tr>\n",
       "      <th>2212</th>\n",
       "      <td>1.430358</td>\n",
       "      <td>-0.674098</td>\n",
       "      <td>1.693662</td>\n",
       "      <td>-0.823208</td>\n",
       "      <td>2.746397</td>\n",
       "      <td>1.727726</td>\n",
       "      <td>-0.403742</td>\n",
       "      <td>-0.058499</td>\n",
       "      <td>1.722032</td>\n",
       "      <td>2.746341</td>\n",
       "      <td>...</td>\n",
       "      <td>3.534671</td>\n",
       "      <td>3.570062</td>\n",
       "      <td>-0.261851</td>\n",
       "      <td>-0.117229</td>\n",
       "      <td>-0.095498</td>\n",
       "      <td>-1.600776</td>\n",
       "      <td>1.404857</td>\n",
       "      <td>-0.007069</td>\n",
       "      <td>0.781898</td>\n",
       "      <td>1.458761</td>\n",
       "    </tr>\n",
       "  </tbody>\n",
       "</table>\n",
       "<p>2213 rows × 28 columns</p>\n",
       "</div>"
      ],
      "text/plain": [
       "      Education  Marital_Status    Income   Kidhome  Teenhome   Recency  \\\n",
       "0     -0.352454       -1.602398  1.294980 -0.823208 -0.929307 -1.693697   \n",
       "1     -0.352454        0.254202  0.192843 -0.823208 -0.929307 -1.693697   \n",
       "2     -0.352454       -0.674098  0.597087 -0.823208  0.908545 -1.693697   \n",
       "3     -0.352454        1.182503 -0.785073  1.039532  0.908545 -1.693697   \n",
       "4     -0.352454        0.254202 -1.222051  1.039532 -0.929307 -1.693697   \n",
       "...         ...             ...       ...       ...       ...       ...   \n",
       "2208   1.430358       -1.602398  0.565664 -0.823208  0.908545  1.727726   \n",
       "2209  -2.135266       -0.674098 -0.841404  1.039532 -0.929307  1.727726   \n",
       "2210  -0.352454       -1.602398 -0.235435  1.039532 -0.929307  1.727726   \n",
       "2211  -0.352454       -0.674098  0.539565 -0.823208 -0.929307  1.727726   \n",
       "2212   1.430358       -0.674098  1.693662 -0.823208  2.746397  1.727726   \n",
       "\n",
       "      MntWines  MntFruits  MntMeatProducts  MntFishProducts  ...  \\\n",
       "0    -0.344435   1.955247         0.945855         1.339972  ...   \n",
       "1     0.471034  -0.536764        -0.459294        -0.559540  ...   \n",
       "2    -0.507529  -0.385733        -0.481598        -0.413424  ...   \n",
       "3    -0.875231  -0.662623        -0.740324        -0.687392  ...   \n",
       "4    -0.887093  -0.259874        -0.637726        -0.486482  ...   \n",
       "...        ...        ...              ...              ...  ...   \n",
       "2208  0.198222  -0.209530        -0.182725         0.171041  ...   \n",
       "2209 -0.890058  -0.410905        -0.686794        -0.632598  ...   \n",
       "2210 -0.356297  -0.612279        -0.352235        -0.413424  ...   \n",
       "2211 -0.113139   0.293906         2.382229         2.034024  ...   \n",
       "2212 -0.403742  -0.058499         1.722032         2.746341  ...   \n",
       "\n",
       "      AcceptedCmp4  AcceptedCmp5  AcceptedCmp1  AcceptedCmp2  Complain  \\\n",
       "0        -0.282912     -0.280107     -0.261851     -0.117229 -0.095498   \n",
       "1        -0.282912     -0.280107     -0.261851      8.530338 -0.095498   \n",
       "2        -0.282912     -0.280107     -0.261851     -0.117229 -0.095498   \n",
       "3        -0.282912     -0.280107     -0.261851     -0.117229 -0.095498   \n",
       "4        -0.282912     -0.280107     -0.261851     -0.117229 -0.095498   \n",
       "...            ...           ...           ...           ...       ...   \n",
       "2208     -0.282912     -0.280107     -0.261851     -0.117229 -0.095498   \n",
       "2209     -0.282912     -0.280107     -0.261851     -0.117229 -0.095498   \n",
       "2210     -0.282912     -0.280107     -0.261851     -0.117229 -0.095498   \n",
       "2211     -0.282912     -0.280107     -0.261851     -0.117229 -0.095498   \n",
       "2212      3.534671      3.570062     -0.261851     -0.117229 -0.095498   \n",
       "\n",
       "       Country  Children       Age  Total_Spent  customer_lifetime  \n",
       "0     0.694790 -1.264914 -0.092557     0.967836          -1.599987  \n",
       "1    -1.600776 -1.264914  0.676833    -0.049841          -1.599987  \n",
       "2     1.153903  0.069971  0.933297    -0.591052          -1.599987  \n",
       "3    -2.059889  1.404857  0.163906    -0.989490          -1.420060  \n",
       "4     0.694790  0.069971 -1.716826    -0.856677          -1.420060  \n",
       "...        ...       ...       ...          ...                ...  \n",
       "2208  1.153903  0.069971 -0.605484     0.136097           0.559129  \n",
       "2209  0.694790  0.069971 -0.690972    -0.916443           0.918982  \n",
       "2210  0.694790  0.069971 -0.605484    -0.494763           1.098908  \n",
       "2211 -0.682550 -1.264914 -0.776460     1.288246           1.098908  \n",
       "2212 -1.600776  1.404857 -0.007069     0.781898           1.458761  \n",
       "\n",
       "[2213 rows x 28 columns]"
      ]
     },
     "execution_count": 118,
     "metadata": {},
     "output_type": "execute_result"
    }
   ],
   "source": [
    "marketing_data_cluster "
   ]
  },
  {
   "cell_type": "markdown",
   "metadata": {},
   "source": [
    "### KMeans Clustering"
   ]
  },
  {
   "cell_type": "code",
   "execution_count": 119,
   "metadata": {},
   "outputs": [
    {
     "data": {
      "text/plain": [
       "KMeans(n_clusters=3)"
      ]
     },
     "execution_count": 119,
     "metadata": {},
     "output_type": "execute_result"
    }
   ],
   "source": [
    "# Using two clusters\n",
    "\n",
    "kmeans = KMeans(n_clusters=3)\n",
    "kmeans.fit(marketing_data_cluster)"
   ]
  },
  {
   "cell_type": "code",
   "execution_count": 120,
   "metadata": {},
   "outputs": [
    {
     "name": "stdout",
     "output_type": "stream",
     "text": [
      "0    1053\n",
      "1     541\n",
      "2     619\n",
      "Name: clusters, dtype: int64\n"
     ]
    }
   ],
   "source": [
    "# Predicting / assigning the clusters:\n",
    "\n",
    "df_cl = marketing_data_cluster\n",
    "df_cl['clusters'] = kmeans.predict(marketing_data_cluster)\n",
    "\n",
    "# Check the size of the clusters\n",
    "print(df_cl['clusters'].value_counts().sort_index())"
   ]
  },
  {
   "cell_type": "code",
   "execution_count": 121,
   "metadata": {},
   "outputs": [
    {
     "data": {
      "image/png": "[encoded data removed]",
      "text/plain": [
       "<Figure size 432x288 with 1 Axes>"
      ]
     },
     "metadata": {
      "needs_background": "light"
     },
     "output_type": "display_data"
    }
   ],
   "source": [
    "from sklearn.cluster import KMeans\n",
    "\n",
    "km = KMeans(n_clusters=3, random_state=123)\n",
    "kmeans_1 = km.fit(marketing_data_cluster)\n",
    "kmeans_2 = kmeans_1.predict(marketing_data_cluster)\n",
    "\n",
    "marketing_data_cluster['cluster']=kmeans_2\n",
    " \n",
    "#marketing_data_cluster.head()\n",
    "\n",
    "clusterval = marketing_data_cluster['cluster'].unique()\n",
    "for cluster in clusterval:\n",
    "    plt.scatter(marketing_data_cluster[marketing_data_cluster['cluster']==cluster]['Age'], marketing_data_cluster[marketing_data_cluster['cluster']==cluster]['Income'])\n",
    "plt.show()"
   ]
  },
  {
   "cell_type": "code",
   "execution_count": 122,
   "metadata": {},
   "outputs": [],
   "source": [
    "# After scaling my dataset, the ages is being difficult to interprete, I have to un-scale by concatinating my original dataset with my cluster"
   ]
  },
  {
   "cell_type": "code",
   "execution_count": 123,
   "metadata": {},
   "outputs": [],
   "source": [
    "marketing_data_clustering_full = pd.concat([marketing_df, marketing_data_cluster['cluster']], axis=1)"
   ]
  },
  {
   "cell_type": "code",
   "execution_count": 124,
   "metadata": {},
   "outputs": [
    {
     "data": {
      "text/html": [
       "<div>\n",
       "<style scoped>\n",
       "    .dataframe tbody tr th:only-of-type {\n",
       "        vertical-align: middle;\n",
       "    }\n",
       "\n",
       "    .dataframe tbody tr th {\n",
       "        vertical-align: top;\n",
       "    }\n",
       "\n",
       "    .dataframe thead th {\n",
       "        text-align: right;\n",
       "    }\n",
       "</style>\n",
       "<table border=\"1\" class=\"dataframe\">\n",
       "  <thead>\n",
       "    <tr style=\"text-align: right;\">\n",
       "      <th></th>\n",
       "      <th>Education</th>\n",
       "      <th>Marital_Status</th>\n",
       "      <th>Income</th>\n",
       "      <th>Kidhome</th>\n",
       "      <th>Teenhome</th>\n",
       "      <th>Recency</th>\n",
       "      <th>MntWines</th>\n",
       "      <th>MntFruits</th>\n",
       "      <th>MntMeatProducts</th>\n",
       "      <th>MntFishProducts</th>\n",
       "      <th>...</th>\n",
       "      <th>AcceptedCmp1</th>\n",
       "      <th>AcceptedCmp2</th>\n",
       "      <th>Response</th>\n",
       "      <th>Complain</th>\n",
       "      <th>Country</th>\n",
       "      <th>Children</th>\n",
       "      <th>Age</th>\n",
       "      <th>Total_Spent</th>\n",
       "      <th>customer_lifetime</th>\n",
       "      <th>cluster</th>\n",
       "    </tr>\n",
       "  </thead>\n",
       "  <tbody>\n",
       "    <tr>\n",
       "      <th>0</th>\n",
       "      <td>2</td>\n",
       "      <td>2</td>\n",
       "      <td>84835.0</td>\n",
       "      <td>0</td>\n",
       "      <td>0</td>\n",
       "      <td>0</td>\n",
       "      <td>189</td>\n",
       "      <td>104</td>\n",
       "      <td>379</td>\n",
       "      <td>111</td>\n",
       "      <td>...</td>\n",
       "      <td>0</td>\n",
       "      <td>0</td>\n",
       "      <td>1</td>\n",
       "      <td>0</td>\n",
       "      <td>6</td>\n",
       "      <td>0</td>\n",
       "      <td>51</td>\n",
       "      <td>1190</td>\n",
       "      <td>6.7</td>\n",
       "      <td>1</td>\n",
       "    </tr>\n",
       "    <tr>\n",
       "      <th>1</th>\n",
       "      <td>2</td>\n",
       "      <td>4</td>\n",
       "      <td>57091.0</td>\n",
       "      <td>0</td>\n",
       "      <td>0</td>\n",
       "      <td>0</td>\n",
       "      <td>464</td>\n",
       "      <td>5</td>\n",
       "      <td>64</td>\n",
       "      <td>7</td>\n",
       "      <td>...</td>\n",
       "      <td>0</td>\n",
       "      <td>1</td>\n",
       "      <td>1</td>\n",
       "      <td>0</td>\n",
       "      <td>1</td>\n",
       "      <td>0</td>\n",
       "      <td>60</td>\n",
       "      <td>577</td>\n",
       "      <td>6.7</td>\n",
       "      <td>0</td>\n",
       "    </tr>\n",
       "    <tr>\n",
       "      <th>2</th>\n",
       "      <td>2</td>\n",
       "      <td>3</td>\n",
       "      <td>67267.0</td>\n",
       "      <td>0</td>\n",
       "      <td>1</td>\n",
       "      <td>0</td>\n",
       "      <td>134</td>\n",
       "      <td>11</td>\n",
       "      <td>59</td>\n",
       "      <td>15</td>\n",
       "      <td>...</td>\n",
       "      <td>0</td>\n",
       "      <td>0</td>\n",
       "      <td>0</td>\n",
       "      <td>0</td>\n",
       "      <td>7</td>\n",
       "      <td>1</td>\n",
       "      <td>63</td>\n",
       "      <td>251</td>\n",
       "      <td>6.7</td>\n",
       "      <td>2</td>\n",
       "    </tr>\n",
       "    <tr>\n",
       "      <th>3</th>\n",
       "      <td>2</td>\n",
       "      <td>5</td>\n",
       "      <td>32474.0</td>\n",
       "      <td>1</td>\n",
       "      <td>1</td>\n",
       "      <td>0</td>\n",
       "      <td>10</td>\n",
       "      <td>0</td>\n",
       "      <td>1</td>\n",
       "      <td>0</td>\n",
       "      <td>...</td>\n",
       "      <td>0</td>\n",
       "      <td>0</td>\n",
       "      <td>0</td>\n",
       "      <td>0</td>\n",
       "      <td>0</td>\n",
       "      <td>2</td>\n",
       "      <td>54</td>\n",
       "      <td>11</td>\n",
       "      <td>6.8</td>\n",
       "      <td>2</td>\n",
       "    </tr>\n",
       "    <tr>\n",
       "      <th>4</th>\n",
       "      <td>2</td>\n",
       "      <td>4</td>\n",
       "      <td>21474.0</td>\n",
       "      <td>1</td>\n",
       "      <td>0</td>\n",
       "      <td>0</td>\n",
       "      <td>6</td>\n",
       "      <td>16</td>\n",
       "      <td>24</td>\n",
       "      <td>11</td>\n",
       "      <td>...</td>\n",
       "      <td>0</td>\n",
       "      <td>0</td>\n",
       "      <td>1</td>\n",
       "      <td>0</td>\n",
       "      <td>6</td>\n",
       "      <td>1</td>\n",
       "      <td>32</td>\n",
       "      <td>91</td>\n",
       "      <td>6.8</td>\n",
       "      <td>2</td>\n",
       "    </tr>\n",
       "    <tr>\n",
       "      <th>...</th>\n",
       "      <td>...</td>\n",
       "      <td>...</td>\n",
       "      <td>...</td>\n",
       "      <td>...</td>\n",
       "      <td>...</td>\n",
       "      <td>...</td>\n",
       "      <td>...</td>\n",
       "      <td>...</td>\n",
       "      <td>...</td>\n",
       "      <td>...</td>\n",
       "      <td>...</td>\n",
       "      <td>...</td>\n",
       "      <td>...</td>\n",
       "      <td>...</td>\n",
       "      <td>...</td>\n",
       "      <td>...</td>\n",
       "      <td>...</td>\n",
       "      <td>...</td>\n",
       "      <td>...</td>\n",
       "      <td>...</td>\n",
       "      <td>...</td>\n",
       "    </tr>\n",
       "    <tr>\n",
       "      <th>2208</th>\n",
       "      <td>4</td>\n",
       "      <td>2</td>\n",
       "      <td>66476.0</td>\n",
       "      <td>0</td>\n",
       "      <td>1</td>\n",
       "      <td>99</td>\n",
       "      <td>372</td>\n",
       "      <td>18</td>\n",
       "      <td>126</td>\n",
       "      <td>47</td>\n",
       "      <td>...</td>\n",
       "      <td>0</td>\n",
       "      <td>0</td>\n",
       "      <td>0</td>\n",
       "      <td>0</td>\n",
       "      <td>7</td>\n",
       "      <td>1</td>\n",
       "      <td>45</td>\n",
       "      <td>689</td>\n",
       "      <td>7.9</td>\n",
       "      <td>0</td>\n",
       "    </tr>\n",
       "    <tr>\n",
       "      <th>2209</th>\n",
       "      <td>0</td>\n",
       "      <td>3</td>\n",
       "      <td>31056.0</td>\n",
       "      <td>1</td>\n",
       "      <td>0</td>\n",
       "      <td>99</td>\n",
       "      <td>5</td>\n",
       "      <td>10</td>\n",
       "      <td>13</td>\n",
       "      <td>3</td>\n",
       "      <td>...</td>\n",
       "      <td>0</td>\n",
       "      <td>0</td>\n",
       "      <td>0</td>\n",
       "      <td>0</td>\n",
       "      <td>6</td>\n",
       "      <td>1</td>\n",
       "      <td>44</td>\n",
       "      <td>55</td>\n",
       "      <td>8.1</td>\n",
       "      <td>2</td>\n",
       "    </tr>\n",
       "    <tr>\n",
       "      <th>2210</th>\n",
       "      <td>2</td>\n",
       "      <td>2</td>\n",
       "      <td>46310.0</td>\n",
       "      <td>1</td>\n",
       "      <td>0</td>\n",
       "      <td>99</td>\n",
       "      <td>185</td>\n",
       "      <td>2</td>\n",
       "      <td>88</td>\n",
       "      <td>15</td>\n",
       "      <td>...</td>\n",
       "      <td>0</td>\n",
       "      <td>0</td>\n",
       "      <td>0</td>\n",
       "      <td>0</td>\n",
       "      <td>6</td>\n",
       "      <td>1</td>\n",
       "      <td>45</td>\n",
       "      <td>309</td>\n",
       "      <td>8.2</td>\n",
       "      <td>2</td>\n",
       "    </tr>\n",
       "    <tr>\n",
       "      <th>2211</th>\n",
       "      <td>2</td>\n",
       "      <td>3</td>\n",
       "      <td>65819.0</td>\n",
       "      <td>0</td>\n",
       "      <td>0</td>\n",
       "      <td>99</td>\n",
       "      <td>267</td>\n",
       "      <td>38</td>\n",
       "      <td>701</td>\n",
       "      <td>149</td>\n",
       "      <td>...</td>\n",
       "      <td>0</td>\n",
       "      <td>0</td>\n",
       "      <td>0</td>\n",
       "      <td>0</td>\n",
       "      <td>3</td>\n",
       "      <td>0</td>\n",
       "      <td>43</td>\n",
       "      <td>1383</td>\n",
       "      <td>8.2</td>\n",
       "      <td>1</td>\n",
       "    </tr>\n",
       "    <tr>\n",
       "      <th>2212</th>\n",
       "      <td>4</td>\n",
       "      <td>3</td>\n",
       "      <td>94871.0</td>\n",
       "      <td>0</td>\n",
       "      <td>2</td>\n",
       "      <td>99</td>\n",
       "      <td>169</td>\n",
       "      <td>24</td>\n",
       "      <td>553</td>\n",
       "      <td>188</td>\n",
       "      <td>...</td>\n",
       "      <td>0</td>\n",
       "      <td>0</td>\n",
       "      <td>1</td>\n",
       "      <td>0</td>\n",
       "      <td>1</td>\n",
       "      <td>2</td>\n",
       "      <td>52</td>\n",
       "      <td>1078</td>\n",
       "      <td>8.4</td>\n",
       "      <td>0</td>\n",
       "    </tr>\n",
       "  </tbody>\n",
       "</table>\n",
       "<p>2213 rows × 30 columns</p>\n",
       "</div>"
      ],
      "text/plain": [
       "      Education  Marital_Status   Income  Kidhome  Teenhome  Recency  \\\n",
       "0             2               2  84835.0        0         0        0   \n",
       "1             2               4  57091.0        0         0        0   \n",
       "2             2               3  67267.0        0         1        0   \n",
       "3             2               5  32474.0        1         1        0   \n",
       "4             2               4  21474.0        1         0        0   \n",
       "...         ...             ...      ...      ...       ...      ...   \n",
       "2208          4               2  66476.0        0         1       99   \n",
       "2209          0               3  31056.0        1         0       99   \n",
       "2210          2               2  46310.0        1         0       99   \n",
       "2211          2               3  65819.0        0         0       99   \n",
       "2212          4               3  94871.0        0         2       99   \n",
       "\n",
       "      MntWines  MntFruits  MntMeatProducts  MntFishProducts  ...  \\\n",
       "0          189        104              379              111  ...   \n",
       "1          464          5               64                7  ...   \n",
       "2          134         11               59               15  ...   \n",
       "3           10          0                1                0  ...   \n",
       "4            6         16               24               11  ...   \n",
       "...        ...        ...              ...              ...  ...   \n",
       "2208       372         18              126               47  ...   \n",
       "2209         5         10               13                3  ...   \n",
       "2210       185          2               88               15  ...   \n",
       "2211       267         38              701              149  ...   \n",
       "2212       169         24              553              188  ...   \n",
       "\n",
       "      AcceptedCmp1  AcceptedCmp2  Response  Complain  Country  Children  Age  \\\n",
       "0                0             0         1         0        6         0   51   \n",
       "1                0             1         1         0        1         0   60   \n",
       "2                0             0         0         0        7         1   63   \n",
       "3                0             0         0         0        0         2   54   \n",
       "4                0             0         1         0        6         1   32   \n",
       "...            ...           ...       ...       ...      ...       ...  ...   \n",
       "2208             0             0         0         0        7         1   45   \n",
       "2209             0             0         0         0        6         1   44   \n",
       "2210             0             0         0         0        6         1   45   \n",
       "2211             0             0         0         0        3         0   43   \n",
       "2212             0             0         1         0        1         2   52   \n",
       "\n",
       "      Total_Spent  customer_lifetime  cluster  \n",
       "0            1190                6.7        1  \n",
       "1             577                6.7        0  \n",
       "2             251                6.7        2  \n",
       "3              11                6.8        2  \n",
       "4              91                6.8        2  \n",
       "...           ...                ...      ...  \n",
       "2208          689                7.9        0  \n",
       "2209           55                8.1        2  \n",
       "2210          309                8.2        2  \n",
       "2211         1383                8.2        1  \n",
       "2212         1078                8.4        0  \n",
       "\n",
       "[2213 rows x 30 columns]"
      ]
     },
     "execution_count": 124,
     "metadata": {},
     "output_type": "execute_result"
    }
   ],
   "source": [
    "marketing_data_clustering_full"
   ]
  },
  {
   "cell_type": "code",
   "execution_count": 125,
   "metadata": {},
   "outputs": [
    {
     "data": {
      "text/plain": [
       "2    1053\n",
       "0     619\n",
       "1     541\n",
       "Name: cluster, dtype: int64"
      ]
     },
     "execution_count": 125,
     "metadata": {},
     "output_type": "execute_result"
    }
   ],
   "source": [
    "marketing_data_clustering_full['cluster'].value_counts()"
   ]
  },
  {
   "cell_type": "code",
   "execution_count": 126,
   "metadata": {},
   "outputs": [
    {
     "name": "stderr",
     "output_type": "stream",
     "text": [
      "C:\\Users\\vicke\\anaconda3\\envs\\kittycat\\lib\\site-packages\\seaborn\\_decorators.py:36: FutureWarning: Pass the following variables as keyword args: x, y. From version 0.12, the only valid positional argument will be `data`, and passing other arguments without an explicit keyword will result in an error or misinterpretation.\n",
      "  warnings.warn(\n"
     ]
    },
    {
     "data": {
      "image/png": "[encoded data removed]",
      "text/plain": [
       "<Figure size 432x288 with 1 Axes>"
      ]
     },
     "metadata": {
      "needs_background": "light"
     },
     "output_type": "display_data"
    }
   ],
   "source": [
    " # to plot the clusters:\n",
    "import seaborn as sns\n",
    "sns.scatterplot(marketing_data_clustering_full['Age'],marketing_data_clustering_full['Income'],hue='cluster',data=marketing_data_clustering_full) \n",
    "plt.title(\"Age vs Income\", fontsize=15)\n",
    "plt.xlabel(\"Age of the target market\", fontsize=12)\n",
    "plt.ylabel(\"Salary of the consumers\", fontsize=12)\n",
    "plt.show()"
   ]
  },
  {
   "cell_type": "markdown",
   "metadata": {},
   "source": [
    "Cluster 0: They are the medium salary earners, over $90,000, and a few anomaly earn little above $100, 000.\n",
    "\n",
    "Cluster 1: They are the highest salary earners, majority of the customers in this cluster earn over $100, 000, and a few anomaly earn almost $200,000, and the richest more than $600, 000.\n",
    "\n",
    "Cluster 2: They are the lowest salary earners, below $90,000."
   ]
  },
  {
   "cell_type": "code",
   "execution_count": 127,
   "metadata": {},
   "outputs": [],
   "source": [
    "#cluster 2: the earn below 60,000 and they are between 25 and 80 years, and few anamaly earns little above 180,000\n",
    "# cluster 0: like 90,00\n",
    "#cluster 1: are the highest earners, little above 100, 000\n",
    "#possible anomaly of a custormer of age app 45 who earnns above 600,000\n",
    "#also other anomalies like someone who is above 120years and who earns around 100,000.\n"
   ]
  },
  {
   "cell_type": "code",
   "execution_count": 128,
   "metadata": {},
   "outputs": [],
   "source": [
    "#marketing_data_clustering_full"
   ]
  },
  {
   "cell_type": "code",
   "execution_count": 129,
   "metadata": {},
   "outputs": [
    {
     "name": "stderr",
     "output_type": "stream",
     "text": [
      "C:\\Users\\vicke\\anaconda3\\envs\\kittycat\\lib\\site-packages\\seaborn\\_decorators.py:36: FutureWarning: Pass the following variables as keyword args: x, y. From version 0.12, the only valid positional argument will be `data`, and passing other arguments without an explicit keyword will result in an error or misinterpretation.\n",
      "  warnings.warn(\n"
     ]
    },
    {
     "data": {
      "image/png": "[encoded data removed]",
      "text/plain": [
       "<Figure size 432x288 with 1 Axes>"
      ]
     },
     "metadata": {
      "needs_background": "light"
     },
     "output_type": "display_data"
    }
   ],
   "source": [
    "# to plot the clusters:\n",
    "import seaborn as sns\n",
    "sns.scatterplot(marketing_data_clustering_full['Education'],marketing_data_clustering_full['Income'],hue='cluster',data=marketing_data_clustering_full) \n",
    "plt.title(\"Education vs Income\", fontsize=15)\n",
    "plt.xlabel(\"Class distribution of Education\", fontsize=12)\n",
    "plt.ylabel(\"Salary of the consumers\", fontsize=12)\n",
    "plt.show()"
   ]
  },
  {
   "cell_type": "code",
   "execution_count": 130,
   "metadata": {},
   "outputs": [
    {
     "name": "stderr",
     "output_type": "stream",
     "text": [
      "C:\\Users\\vicke\\anaconda3\\envs\\kittycat\\lib\\site-packages\\seaborn\\_decorators.py:36: FutureWarning: Pass the following variables as keyword args: x, y. From version 0.12, the only valid positional argument will be `data`, and passing other arguments without an explicit keyword will result in an error or misinterpretation.\n",
      "  warnings.warn(\n"
     ]
    },
    {
     "data": {
      "image/png": "[encoded data removed]",
      "text/plain": [
       "<Figure size 432x288 with 1 Axes>"
      ]
     },
     "metadata": {
      "needs_background": "light"
     },
     "output_type": "display_data"
    }
   ],
   "source": [
    "sns.scatterplot(marketing_data_clustering_full['Marital_Status'],marketing_data_clustering_full['Total_Spent'],hue='cluster',data=marketing_data_clustering_full) \n",
    "plt.title(\"Marital status vs Total spent\", fontsize=15)\n",
    "plt.xlabel(\"Class distribution of Marital Status\", fontsize=12)\n",
    "plt.ylabel(\"Customer sales behaviour\", fontsize=12)\n",
    "plt.show()"
   ]
  },
  {
   "cell_type": "code",
   "execution_count": 131,
   "metadata": {},
   "outputs": [
    {
     "name": "stdout",
     "output_type": "stream",
     "text": [
      "['Absurd', 'Alone', 'Divorced', 'Married', 'Single', 'Together', 'Widow', 'YOLO']\n"
     ]
    }
   ],
   "source": [
    "print(marital_list)"
   ]
  },
  {
   "cell_type": "code",
   "execution_count": 132,
   "metadata": {},
   "outputs": [
    {
     "name": "stderr",
     "output_type": "stream",
     "text": [
      "C:\\Users\\vicke\\anaconda3\\envs\\kittycat\\lib\\site-packages\\seaborn\\_decorators.py:36: FutureWarning: Pass the following variables as keyword args: x, y. From version 0.12, the only valid positional argument will be `data`, and passing other arguments without an explicit keyword will result in an error or misinterpretation.\n",
      "  warnings.warn(\n"
     ]
    },
    {
     "data": {
      "image/png": "[encoded data removed]",
      "text/plain": [
       "<Figure size 432x288 with 1 Axes>"
      ]
     },
     "metadata": {
      "needs_background": "light"
     },
     "output_type": "display_data"
    }
   ],
   "source": [
    "sns.scatterplot(marketing_data_clustering_full['Income'],marketing_data_clustering_full['Total_Spent'],hue='cluster',data=marketing_data_clustering_full) \n",
    "plt.title(\"Income status vs Total spent\", fontsize=15)\n",
    "plt.xlabel(\"Class distribution of Income\", fontsize=12)\n",
    "plt.ylabel(\"Customer Purchases\", fontsize=12)\n",
    "plt.show()"
   ]
  },
  {
   "cell_type": "markdown",
   "metadata": {},
   "source": [
    "Cluster 0: The medium salary earners, and medium total purchases.\n",
    "\n",
    "Cluster 1: The highest salary earners, and ofcourse, the highest total purchases was done by this cluster.\n",
    "\n",
    "cluster 2: The lowest salary earners, and has the lowest total purchases."
   ]
  },
  {
   "cell_type": "code",
   "execution_count": 133,
   "metadata": {},
   "outputs": [
    {
     "name": "stderr",
     "output_type": "stream",
     "text": [
      "C:\\Users\\vicke\\anaconda3\\envs\\kittycat\\lib\\site-packages\\seaborn\\_decorators.py:36: FutureWarning: Pass the following variables as keyword args: x, y. From version 0.12, the only valid positional argument will be `data`, and passing other arguments without an explicit keyword will result in an error or misinterpretation.\n",
      "  warnings.warn(\n"
     ]
    },
    {
     "data": {
      "image/png": "[encoded data removed]",
      "text/plain": [
       "<Figure size 432x288 with 1 Axes>"
      ]
     },
     "metadata": {
      "needs_background": "light"
     },
     "output_type": "display_data"
    }
   ],
   "source": [
    "sns.scatterplot(marketing_data_clustering_full['Country'],marketing_data_clustering_full['Total_Spent'],hue='cluster',data=marketing_data_clustering_full) \n",
    "plt.title(\"Country status vs Total spent\", fontsize=15)\n",
    "plt.xlabel(\"Class distribution of Country\", fontsize=12)\n",
    "plt.ylabel(\"Customer Purchases\", fontsize=12)\n",
    "plt.show()"
   ]
  },
  {
   "cell_type": "code",
   "execution_count": null,
   "metadata": {},
   "outputs": [],
   "source": []
  },
  {
   "cell_type": "markdown",
   "metadata": {},
   "source": [
    "K-Means clustering with  4 different clusters (random choice)."
   ]
  },
  {
   "cell_type": "code",
   "execution_count": 134,
   "metadata": {},
   "outputs": [
    {
     "data": {
      "image/png": "[encoded data removed]",
      "text/plain": [
       "<Figure size 432x288 with 1 Axes>"
      ]
     },
     "metadata": {
      "needs_background": "light"
     },
     "output_type": "display_data"
    }
   ],
   "source": [
    "kmeans = KMeans(n_clusters=4)\n",
    "kmeans.fit(marketing_data_clustering_full)\n",
    "\n",
    "marketing_data_clustering_full['cluster'] = kmeans.predict(marketing_data_clustering_full)\n",
    "\n",
    "clusterval = np.unique(marketing_data_clustering_full['cluster'])\n",
    "for cluster in clusterval:\n",
    "    sns.scatterplot(x = marketing_data_clustering_full[marketing_data_clustering_full['cluster']==cluster]['Age'], y = marketing_data_clustering_full[marketing_data_clustering_full['cluster']==cluster]['Income'])\n",
    "plt.show()"
   ]
  },
  {
   "cell_type": "code",
   "execution_count": 135,
   "metadata": {},
   "outputs": [
    {
     "name": "stderr",
     "output_type": "stream",
     "text": [
      "C:\\Users\\vicke\\anaconda3\\envs\\kittycat\\lib\\site-packages\\seaborn\\_decorators.py:36: FutureWarning: Pass the following variables as keyword args: x, y. From version 0.12, the only valid positional argument will be `data`, and passing other arguments without an explicit keyword will result in an error or misinterpretation.\n",
      "  warnings.warn(\n"
     ]
    },
    {
     "data": {
      "image/png": "[encoded data removed]",
      "text/plain": [
       "<Figure size 432x288 with 1 Axes>"
      ]
     },
     "metadata": {
      "needs_background": "light"
     },
     "output_type": "display_data"
    }
   ],
   "source": [
    "sns.scatterplot(marketing_data_clustering_full['Age'],marketing_data_clustering_full['Income'],hue='cluster',data=marketing_data_clustering_full) \n",
    "plt.title(\"Age vs Income\", fontsize=15)\n",
    "plt.xlabel(\"Classes of Age distribution\", fontsize=12)\n",
    "plt.ylabel(\"Salary of the consumers\", fontsize=12)\n",
    "plt.show()"
   ]
  },
  {
   "cell_type": "markdown",
   "metadata": {},
   "source": [
    "Elbow plot using inertia"
   ]
  },
  {
   "cell_type": "code",
   "execution_count": 136,
   "metadata": {},
   "outputs": [
    {
     "name": "stdout",
     "output_type": "stream",
     "text": [
      "[1, 2, 3, 4, 5, 6, 7, 8]\n",
      "[1403511913157.5596, 674650013470.6141, 319433977084.5188, 183328318387.861, 122545376637.09996, 81252897810.61885, 53747983518.710365, 40302609129.81546]\n"
     ]
    },
    {
     "data": {
      "text/plain": [
       "Text(0.5, 1.0, 'Elbow Method showing the optimal k')"
      ]
     },
     "execution_count": 136,
     "metadata": {},
     "output_type": "execute_result"
    },
    {
     "data": {
      "image/png": "[encoded data removed]",
      "text/plain": [
       "<Figure size 1152x576 with 1 Axes>"
      ]
     },
     "metadata": {
      "needs_background": "light"
     },
     "output_type": "display_data"
    }
   ],
   "source": [
    "K = range(1, 9)\n",
    "print(list(K)) \n",
    "inertia = []\n",
    "\n",
    "for k in K:\n",
    "    kmeans = KMeans(n_clusters=k,\n",
    "                    random_state=1234)\n",
    "    kmeans.fit(marketing_data_clustering_full)\n",
    "    inertia.append(kmeans.inertia_)\n",
    "    \n",
    "print(inertia) # This shows the average squared distance from each point to its centroids\n",
    "\n",
    "import matplotlib.pyplot as plt\n",
    "%matplotlib inline\n",
    "\n",
    "plt.figure(figsize=(16,8))\n",
    "plt.plot(K, inertia, 'bx-') # plotting K against the number of inertia\n",
    "plt.xlabel('k')\n",
    "plt.ylabel('inertia')\n",
    "plt.xticks(np.arange(min(K), max(K)+1, 1.0))\n",
    "plt.title('Elbow Method showing the optimal k')"
   ]
  },
  {
   "cell_type": "markdown",
   "metadata": {},
   "source": [
    "There seems to be an elbow at k=3."
   ]
  },
  {
   "cell_type": "markdown",
   "metadata": {},
   "source": [
    "#### Silhouette Score"
   ]
  },
  {
   "cell_type": "code",
   "execution_count": 137,
   "metadata": {},
   "outputs": [
    {
     "name": "stdout",
     "output_type": "stream",
     "text": [
      "[2, 3, 4, 5, 6, 7, 8]\n",
      "[0.6009887239897483, 0.6055539711248217, 0.5402519926654424, 0.5286059597644323, 0.5363300803248037, 0.5365937199301599, 0.518823344674909]\n"
     ]
    },
    {
     "data": {
      "text/plain": [
       "Text(0.5, 1.0, 'silhouette score showing the optimal k')"
      ]
     },
     "execution_count": 137,
     "metadata": {},
     "output_type": "execute_result"
    },
    {
     "data": {
      "image/png": "[encoded data removed]",
      "text/plain": [
       "<Figure size 1152x576 with 1 Axes>"
      ]
     },
     "metadata": {
      "needs_background": "light"
     },
     "output_type": "display_data"
    }
   ],
   "source": [
    "from sklearn.metrics import silhouette_score\n",
    "\n",
    "K = range(2, 9)\n",
    "silhouette = []\n",
    "\n",
    "for k in K:\n",
    "    kmeans = KMeans(n_clusters=k,\n",
    "                    random_state=1234)\n",
    "    kmeans.fit(marketing_data_clustering_full)\n",
    "    silhouette.append(silhouette_score(marketing_data_clustering_full, kmeans.predict(marketing_data_clustering_full)))\n",
    "    \n",
    "print(list(K))\n",
    "print(silhouette)\n",
    "\n",
    "plt.figure(figsize=(16,8))\n",
    "plt.plot(K, silhouette, 'bx-')\n",
    "plt.xlabel('k')\n",
    "plt.ylabel('silhouette score')\n",
    "plt.xticks(np.arange(min(K), max(K)+1, 1.0))\n",
    "plt.title('silhouette score showing the optimal k')\n"
   ]
  },
  {
   "cell_type": "markdown",
   "metadata": {},
   "source": [
    "The silhouette score also has an upward spike at 3. This business model has a better cluster for 3."
   ]
  },
  {
   "cell_type": "markdown",
   "metadata": {},
   "source": [
    "#### Hierarchical Clustering (Agglomerative)"
   ]
  },
  {
   "cell_type": "code",
   "execution_count": 138,
   "metadata": {},
   "outputs": [
    {
     "data": {
      "image/png": "[encoded data removed]",
      "text/plain": [
       "<Figure size 432x288 with 1 Axes>"
      ]
     },
     "metadata": {
      "needs_background": "light"
     },
     "output_type": "display_data"
    }
   ],
   "source": [
    "from sklearn.cluster import AgglomerativeClustering\n",
    "\n",
    "model = AgglomerativeClustering(n_clusters=4)\n",
    "\n",
    "# fit model and predict clusters\n",
    "marketing_data_clustering_full2 = pd.DataFrame(marketing_data_clustering_full)\n",
    "marketing_data_clustering_full2['cluster'] = model.fit_predict(marketing_data_clustering_full)\n",
    "# create scatter plot for samples from each cluster\n",
    "clusterval = marketing_data_clustering_full2['cluster'].unique()\n",
    "for cluster in clusterval:\n",
    "    plt.scatter(marketing_data_clustering_full2[marketing_data_clustering_full2['cluster']==cluster]['Marital_Status'], marketing_data_clustering_full2[marketing_data_clustering_full2['cluster']==cluster]['Total_Spent'])\n",
    "plt.show()"
   ]
  },
  {
   "cell_type": "code",
   "execution_count": 139,
   "metadata": {},
   "outputs": [
    {
     "name": "stderr",
     "output_type": "stream",
     "text": [
      "C:\\Users\\vicke\\anaconda3\\envs\\kittycat\\lib\\site-packages\\seaborn\\_decorators.py:36: FutureWarning: Pass the following variables as keyword args: x, y. From version 0.12, the only valid positional argument will be `data`, and passing other arguments without an explicit keyword will result in an error or misinterpretation.\n",
      "  warnings.warn(\n"
     ]
    },
    {
     "data": {
      "image/png": "[encoded data removed]",
      "text/plain": [
       "<Figure size 432x288 with 1 Axes>"
      ]
     },
     "metadata": {
      "needs_background": "light"
     },
     "output_type": "display_data"
    }
   ],
   "source": [
    "sns.scatterplot(marketing_data_clustering_full['Marital_Status'],marketing_data_clustering_full['Total_Spent'],hue='cluster',data=marketing_data_clustering_full) \n",
    "plt.title(\"Age vs Income\", fontsize=15)\n",
    "plt.xlabel(\"Classes of Age distribution\", fontsize=12)\n",
    "plt.ylabel(\"Salary of the consumers\", fontsize=12)\n",
    "plt.show()"
   ]
  },
  {
   "cell_type": "code",
   "execution_count": null,
   "metadata": {},
   "outputs": [],
   "source": []
  },
  {
   "cell_type": "code",
   "execution_count": 140,
   "metadata": {},
   "outputs": [
    {
     "data": {
      "text/plain": [
       "Text(0.5, 1.0, 'Silhouette Score for Agglomerative Clustering')"
      ]
     },
     "execution_count": 140,
     "metadata": {},
     "output_type": "execute_result"
    },
    {
     "data": {
      "image/png": "[encoded data removed]",
      "text/plain": [
       "<Figure size 1152x576 with 1 Axes>"
      ]
     },
     "metadata": {
      "needs_background": "light"
     },
     "output_type": "display_data"
    }
   ],
   "source": [
    "K = range(2, 8)\n",
    "silhouette_hc = []\n",
    "\n",
    "for k in K:\n",
    "    model = AgglomerativeClustering(n_clusters=k)\n",
    "    model.fit(marketing_data_clustering_full)\n",
    "    silhouette_hc.append(silhouette_score(marketing_data_clustering_full, model.fit_predict(marketing_data_clustering_full)))\n",
    "\n",
    "import matplotlib.pyplot as plt\n",
    "%matplotlib inline\n",
    "\n",
    "plt.figure(figsize=(16,8))\n",
    "plt.plot(K, silhouette_hc, 'bx-')\n",
    "plt.xlabel('k')\n",
    "plt.ylabel('silhouette score')\n",
    "plt.xticks(np.arange(min(K), max(K)+1, 1.0))\n",
    "plt.title('Silhouette Score for Agglomerative Clustering')"
   ]
  },
  {
   "cell_type": "markdown",
   "metadata": {},
   "source": [
    "The upward spike is on 3"
   ]
  },
  {
   "cell_type": "markdown",
   "metadata": {},
   "source": [
    "### Evaluating Unsupervised Learning Algorithms"
   ]
  },
  {
   "cell_type": "code",
   "execution_count": 141,
   "metadata": {},
   "outputs": [
    {
     "name": "stdout",
     "output_type": "stream",
     "text": [
      "silhouette_score for 3 clusters: 0.6055539736130003\n"
     ]
    }
   ],
   "source": [
    "model = KMeans(n_clusters=3)\n",
    "clusters = model.fit_predict(marketing_data_clustering_full)\n",
    "print('silhouette_score for 3 clusters:', silhouette_score(marketing_data_clustering_full, clusters))"
   ]
  },
  {
   "cell_type": "code",
   "execution_count": 142,
   "metadata": {},
   "outputs": [
    {
     "name": "stdout",
     "output_type": "stream",
     "text": [
      "silhoutte score for 4 clusters: 0.5335114953748243\n"
     ]
    }
   ],
   "source": [
    "model = AgglomerativeClustering(n_clusters=4)\n",
    "clusters = model.fit_predict(marketing_data_clustering_full)\n",
    "print('silhoutte score for 4 clusters:', silhouette_score(marketing_data_clustering_full, clusters))"
   ]
  },
  {
   "cell_type": "code",
   "execution_count": null,
   "metadata": {},
   "outputs": [],
   "source": []
  },
  {
   "cell_type": "markdown",
   "metadata": {},
   "source": [
    "KMeans gives a better silhouette_score of 60%, while silhouette_score for Hierarchical is 58%"
   ]
  },
  {
   "cell_type": "markdown",
   "metadata": {},
   "source": [
    "### PCA\n",
    "PCA is fundamentally a dimensionality reduction algorithm."
   ]
  },
  {
   "cell_type": "code",
   "execution_count": 143,
   "metadata": {},
   "outputs": [
    {
     "data": {
      "text/html": [
       "<div>\n",
       "<style scoped>\n",
       "    .dataframe tbody tr th:only-of-type {\n",
       "        vertical-align: middle;\n",
       "    }\n",
       "\n",
       "    .dataframe tbody tr th {\n",
       "        vertical-align: top;\n",
       "    }\n",
       "\n",
       "    .dataframe thead th {\n",
       "        text-align: right;\n",
       "    }\n",
       "</style>\n",
       "<table border=\"1\" class=\"dataframe\">\n",
       "  <thead>\n",
       "    <tr style=\"text-align: right;\">\n",
       "      <th></th>\n",
       "      <th>0</th>\n",
       "      <th>1</th>\n",
       "      <th>2</th>\n",
       "      <th>3</th>\n",
       "      <th>4</th>\n",
       "      <th>5</th>\n",
       "      <th>6</th>\n",
       "      <th>7</th>\n",
       "      <th>8</th>\n",
       "    </tr>\n",
       "  </thead>\n",
       "  <tbody>\n",
       "    <tr>\n",
       "      <th>0</th>\n",
       "      <td>32602.671313</td>\n",
       "      <td>92.803648</td>\n",
       "      <td>323.316600</td>\n",
       "      <td>-249.904252</td>\n",
       "      <td>61.796005</td>\n",
       "      <td>75.782655</td>\n",
       "      <td>49.985038</td>\n",
       "      <td>61.015652</td>\n",
       "      <td>-0.864796</td>\n",
       "    </tr>\n",
       "    <tr>\n",
       "      <th>1</th>\n",
       "      <td>4853.730531</td>\n",
       "      <td>71.346982</td>\n",
       "      <td>-198.448277</td>\n",
       "      <td>31.621756</td>\n",
       "      <td>10.120857</td>\n",
       "      <td>-12.738918</td>\n",
       "      <td>47.431495</td>\n",
       "      <td>5.349507</td>\n",
       "      <td>-5.980338</td>\n",
       "    </tr>\n",
       "    <tr>\n",
       "      <th>2</th>\n",
       "      <td>15020.191872</td>\n",
       "      <td>689.390747</td>\n",
       "      <td>-34.133573</td>\n",
       "      <td>11.441086</td>\n",
       "      <td>7.686676</td>\n",
       "      <td>-13.867073</td>\n",
       "      <td>46.827105</td>\n",
       "      <td>2.284572</td>\n",
       "      <td>-10.027017</td>\n",
       "    </tr>\n",
       "    <tr>\n",
       "      <th>3</th>\n",
       "      <td>-19771.951532</td>\n",
       "      <td>321.774755</td>\n",
       "      <td>4.463335</td>\n",
       "      <td>25.036121</td>\n",
       "      <td>-11.386490</td>\n",
       "      <td>-6.319668</td>\n",
       "      <td>47.302681</td>\n",
       "      <td>7.786924</td>\n",
       "      <td>-3.996160</td>\n",
       "    </tr>\n",
       "    <tr>\n",
       "      <th>4</th>\n",
       "      <td>-30768.645558</td>\n",
       "      <td>43.728620</td>\n",
       "      <td>51.269427</td>\n",
       "      <td>-10.707591</td>\n",
       "      <td>7.813701</td>\n",
       "      <td>-6.345939</td>\n",
       "      <td>50.103535</td>\n",
       "      <td>-1.906239</td>\n",
       "      <td>16.843956</td>\n",
       "    </tr>\n",
       "    <tr>\n",
       "      <th>...</th>\n",
       "      <td>...</td>\n",
       "      <td>...</td>\n",
       "      <td>...</td>\n",
       "      <td>...</td>\n",
       "      <td>...</td>\n",
       "      <td>...</td>\n",
       "      <td>...</td>\n",
       "      <td>...</td>\n",
       "      <td>...</td>\n",
       "    </tr>\n",
       "    <tr>\n",
       "      <th>2208</th>\n",
       "      <td>14238.618902</td>\n",
       "      <td>171.713881</td>\n",
       "      <td>-71.569103</td>\n",
       "      <td>-44.700406</td>\n",
       "      <td>17.450502</td>\n",
       "      <td>8.353149</td>\n",
       "      <td>-52.345185</td>\n",
       "      <td>12.100599</td>\n",
       "      <td>9.230741</td>\n",
       "    </tr>\n",
       "    <tr>\n",
       "      <th>2209</th>\n",
       "      <td>-21188.955378</td>\n",
       "      <td>255.975069</td>\n",
       "      <td>27.508864</td>\n",
       "      <td>4.929890</td>\n",
       "      <td>-1.268173</td>\n",
       "      <td>13.186160</td>\n",
       "      <td>-47.874455</td>\n",
       "      <td>-10.862648</td>\n",
       "      <td>6.498114</td>\n",
       "    </tr>\n",
       "    <tr>\n",
       "      <th>2210</th>\n",
       "      <td>-5931.738495</td>\n",
       "      <td>221.551111</td>\n",
       "      <td>-20.348990</td>\n",
       "      <td>34.652261</td>\n",
       "      <td>-3.723510</td>\n",
       "      <td>-1.889524</td>\n",
       "      <td>-50.623298</td>\n",
       "      <td>-6.142125</td>\n",
       "      <td>7.324157</td>\n",
       "    </tr>\n",
       "    <tr>\n",
       "      <th>2211</th>\n",
       "      <td>13595.184079</td>\n",
       "      <td>-533.063743</td>\n",
       "      <td>528.910459</td>\n",
       "      <td>-24.641578</td>\n",
       "      <td>-41.745643</td>\n",
       "      <td>22.100328</td>\n",
       "      <td>-60.989855</td>\n",
       "      <td>76.741643</td>\n",
       "      <td>5.805776</td>\n",
       "    </tr>\n",
       "    <tr>\n",
       "      <th>2212</th>\n",
       "      <td>42635.735539</td>\n",
       "      <td>347.065445</td>\n",
       "      <td>410.897822</td>\n",
       "      <td>-54.613678</td>\n",
       "      <td>53.333640</td>\n",
       "      <td>-117.101437</td>\n",
       "      <td>-63.246435</td>\n",
       "      <td>-8.768447</td>\n",
       "      <td>2.097101</td>\n",
       "    </tr>\n",
       "  </tbody>\n",
       "</table>\n",
       "<p>2213 rows × 9 columns</p>\n",
       "</div>"
      ],
      "text/plain": [
       "                 0           1           2           3          4           5  \\\n",
       "0     32602.671313   92.803648  323.316600 -249.904252  61.796005   75.782655   \n",
       "1      4853.730531   71.346982 -198.448277   31.621756  10.120857  -12.738918   \n",
       "2     15020.191872  689.390747  -34.133573   11.441086   7.686676  -13.867073   \n",
       "3    -19771.951532  321.774755    4.463335   25.036121 -11.386490   -6.319668   \n",
       "4    -30768.645558   43.728620   51.269427  -10.707591   7.813701   -6.345939   \n",
       "...            ...         ...         ...         ...        ...         ...   \n",
       "2208  14238.618902  171.713881  -71.569103  -44.700406  17.450502    8.353149   \n",
       "2209 -21188.955378  255.975069   27.508864    4.929890  -1.268173   13.186160   \n",
       "2210  -5931.738495  221.551111  -20.348990   34.652261  -3.723510   -1.889524   \n",
       "2211  13595.184079 -533.063743  528.910459  -24.641578 -41.745643   22.100328   \n",
       "2212  42635.735539  347.065445  410.897822  -54.613678  53.333640 -117.101437   \n",
       "\n",
       "              6          7          8  \n",
       "0     49.985038  61.015652  -0.864796  \n",
       "1     47.431495   5.349507  -5.980338  \n",
       "2     46.827105   2.284572 -10.027017  \n",
       "3     47.302681   7.786924  -3.996160  \n",
       "4     50.103535  -1.906239  16.843956  \n",
       "...         ...        ...        ...  \n",
       "2208 -52.345185  12.100599   9.230741  \n",
       "2209 -47.874455 -10.862648   6.498114  \n",
       "2210 -50.623298  -6.142125   7.324157  \n",
       "2211 -60.989855  76.741643   5.805776  \n",
       "2212 -63.246435  -8.768447   2.097101  \n",
       "\n",
       "[2213 rows x 9 columns]"
      ]
     },
     "execution_count": 143,
     "metadata": {},
     "output_type": "execute_result"
    }
   ],
   "source": [
    "from sklearn.decomposition import PCA\n",
    "\n",
    "pca_marketing = PCA(n_components=9)\n",
    "pca_marketing.fit(marketing_data_clustering_full)\n",
    "components = pca_marketing.transform(marketing_data_clustering_full)\n",
    "pd.DataFrame(components)"
   ]
  },
  {
   "cell_type": "code",
   "execution_count": 144,
   "metadata": {},
   "outputs": [
    {
     "name": "stdout",
     "output_type": "stream",
     "text": [
      "(2213, 30)\n",
      "(2213, 7)\n"
     ]
    }
   ],
   "source": [
    "pca = PCA(7)  # project from 31 to 7 dimensions\n",
    "projected = pca.fit_transform(marketing_data_clustering_full)\n",
    "print(marketing_data_clustering_full.shape)\n",
    "print(projected.shape)"
   ]
  },
  {
   "cell_type": "code",
   "execution_count": 145,
   "metadata": {},
   "outputs": [
    {
     "data": {
      "text/html": [
       "<div>\n",
       "<style scoped>\n",
       "    .dataframe tbody tr th:only-of-type {\n",
       "        vertical-align: middle;\n",
       "    }\n",
       "\n",
       "    .dataframe tbody tr th {\n",
       "        vertical-align: top;\n",
       "    }\n",
       "\n",
       "    .dataframe thead th {\n",
       "        text-align: right;\n",
       "    }\n",
       "</style>\n",
       "<table border=\"1\" class=\"dataframe\">\n",
       "  <thead>\n",
       "    <tr style=\"text-align: right;\">\n",
       "      <th></th>\n",
       "      <th>0</th>\n",
       "    </tr>\n",
       "  </thead>\n",
       "  <tbody>\n",
       "    <tr>\n",
       "      <th>0</th>\n",
       "      <td>0.99950</td>\n",
       "    </tr>\n",
       "    <tr>\n",
       "      <th>1</th>\n",
       "      <td>0.00044</td>\n",
       "    </tr>\n",
       "    <tr>\n",
       "      <th>2</th>\n",
       "      <td>0.00005</td>\n",
       "    </tr>\n",
       "    <tr>\n",
       "      <th>3</th>\n",
       "      <td>0.00001</td>\n",
       "    </tr>\n",
       "    <tr>\n",
       "      <th>4</th>\n",
       "      <td>0.00000</td>\n",
       "    </tr>\n",
       "    <tr>\n",
       "      <th>5</th>\n",
       "      <td>0.00000</td>\n",
       "    </tr>\n",
       "    <tr>\n",
       "      <th>6</th>\n",
       "      <td>0.00000</td>\n",
       "    </tr>\n",
       "    <tr>\n",
       "      <th>7</th>\n",
       "      <td>0.00000</td>\n",
       "    </tr>\n",
       "    <tr>\n",
       "      <th>8</th>\n",
       "      <td>0.00000</td>\n",
       "    </tr>\n",
       "  </tbody>\n",
       "</table>\n",
       "</div>"
      ],
      "text/plain": [
       "         0\n",
       "0  0.99950\n",
       "1  0.00044\n",
       "2  0.00005\n",
       "3  0.00001\n",
       "4  0.00000\n",
       "5  0.00000\n",
       "6  0.00000\n",
       "7  0.00000\n",
       "8  0.00000"
      ]
     },
     "execution_count": 145,
     "metadata": {},
     "output_type": "execute_result"
    }
   ],
   "source": [
    "round(pd.DataFrame(pca_marketing.explained_variance_ratio_), 5)"
   ]
  },
  {
   "cell_type": "markdown",
   "metadata": {},
   "source": [
    "Variance ratio of the newly generated components are depicted . It shows that the 1st component explains 99% of the variance in the data, the 2nd variable explain less than 2%, etc. All together we take 5 components as these 5 will explain 100% of variance in the data."
   ]
  },
  {
   "cell_type": "code",
   "execution_count": 146,
   "metadata": {},
   "outputs": [
    {
     "data": {
      "image/png": "[encoded data removed]",
      "text/plain": [
       "<Figure size 432x288 with 1 Axes>"
      ]
     },
     "metadata": {
      "needs_background": "light"
     },
     "output_type": "display_data"
    }
   ],
   "source": [
    "pca = PCA().fit(marketing_data_clustering_full)\n",
    "plt.plot(np.cumsum(pca.explained_variance_ratio_))\n",
    "plt.xlabel('number of components')\n",
    "plt.ylabel('cumulative explained variance');"
   ]
  },
  {
   "cell_type": "markdown",
   "metadata": {},
   "source": [
    "This curve quantifies how much of the total, 31-dimensional variance is contained within the first N components. For example, we see that with the marketing_dataset, the first 3 components contain approximately 80% of the variance, while we need less components to describe close to 100% of the variance.\n",
    "\n",
    "Here we see that our 9-dimensional projection did not really lose a lot of information (as measured by the explained variance)  Looking at this plot for a high-dimensional dataset, it can help us understand the level of redundancy present in multiple observations."
   ]
  },
  {
   "cell_type": "code",
   "execution_count": 147,
   "metadata": {},
   "outputs": [],
   "source": [
    "marketing_data_clustering_full.to_csv('marketing_df.csv', index=False)"
   ]
  },
  {
   "cell_type": "code",
   "execution_count": null,
   "metadata": {},
   "outputs": [],
   "source": []
  }
 ],
 "metadata": {
  "kernelspec": {
   "display_name": "Python 3",
   "language": "python",
   "name": "python3"
  },
  "language_info": {
   "codemirror_mode": {
    "name": "ipython",
    "version": 3
   },
   "file_extension": ".py",
   "mimetype": "text/x-python",
   "name": "python",
   "nbconvert_exporter": "python",
   "pygments_lexer": "ipython3",
   "version": "3.8.5"
  }
 },
 "nbformat": 4,
 "nbformat_minor": 4
}
